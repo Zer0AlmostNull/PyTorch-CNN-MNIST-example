{
 "cells": [
  {
   "cell_type": "code",
   "execution_count": 25,
   "metadata": {},
   "outputs": [],
   "source": [
    "import torch\n",
    "from torch import nn\n",
    "from torch.optim import Adam\n",
    "from torch.utils.data import DataLoader\n",
    "from torchvision import datasets\n",
    "from torchvision.transforms import ToTensor"
   ]
  },
  {
   "cell_type": "code",
   "execution_count": 26,
   "metadata": {},
   "outputs": [
    {
     "data": {
      "text/plain": [
       "torch.Size([60000, 28, 28])"
      ]
     },
     "execution_count": 26,
     "metadata": {},
     "output_type": "execute_result"
    }
   ],
   "source": [
    "# get dataset\n",
    "train = datasets.MNIST(root= '../datasets', download = True, train = True, transform = ToTensor())\n",
    "train_loader = DataLoader(train, batch_size = 32)\n",
    "train.data.shape"
   ]
  },
  {
   "cell_type": "code",
   "execution_count": 27,
   "metadata": {},
   "outputs": [],
   "source": [
    "# create model class\n",
    "class ImageClassifier(nn.Module):\n",
    "    def __init__(self):\n",
    "        super().__init__()\n",
    "\n",
    "        self.model = nn.Sequential(\n",
    "            # CNN\n",
    "            nn.Conv2d(1, 32, (3,3)),\n",
    "            nn.ReLU(),\n",
    "            nn.Conv2d(32, 64, (3,3)),\n",
    "            nn.ReLU(),\n",
    "            nn.Conv2d(64, 64, (3,3)),\n",
    "            nn.ReLU(),\n",
    "\n",
    "            # Dense\n",
    "            nn.Flatten(),\n",
    "            nn.Linear(64 * (28-6) * (28-6), 10)\n",
    "        )\n",
    "\n",
    "    def forward(self, x):\n",
    "        return self.model(x)"
   ]
  },
  {
   "cell_type": "code",
   "execution_count": 28,
   "metadata": {},
   "outputs": [],
   "source": [
    "# create instance for nn\n",
    "model = ImageClassifier().to('cuda')\n",
    "\n",
    "opt = Adam(model.parameters(), lr = 1e-3)\n",
    "loss_fn = nn.CrossEntropyLoss()"
   ]
  },
  {
   "cell_type": "code",
   "execution_count": 29,
   "metadata": {},
   "outputs": [
    {
     "name": "stdout",
     "output_type": "stream",
     "text": [
      "Epoch: 0 | loss: 0.010230892337858677\n",
      "Epoch: 1 | loss: 0.005136302672326565\n",
      "Epoch: 2 | loss: 0.0011571476934477687\n",
      "Epoch: 3 | loss: 0.0004669378977268934\n",
      "Epoch: 4 | loss: 0.0012390125775709748\n"
     ]
    }
   ],
   "source": [
    "# training loop\n",
    "EPOCHS = 5\n",
    "for epoch in range(EPOCHS):\n",
    "\n",
    "    for data in train_loader:\n",
    "        x, y = data\n",
    "\n",
    "        # send to gpu\n",
    "        x, y = x.to('cuda'), y.to('cuda')\n",
    "\n",
    "        # make prediction\n",
    "        y_pred = model(x)\n",
    "\n",
    "        # calc loss\n",
    "        loss = loss_fn(y_pred, y)\n",
    "\n",
    "        # backprop\n",
    "        opt.zero_grad()\n",
    "        loss.backward()\n",
    "        opt.step()\n",
    "\n",
    "    \n",
    "    print(f'Epoch: {epoch} | loss: {loss.item()}')"
   ]
  },
  {
   "cell_type": "code",
   "execution_count": 30,
   "metadata": {},
   "outputs": [],
   "source": [
    "# save model\n",
    "from torch import save, load\n",
    "\n",
    "with open('model_state.pt', 'wb') as f:\n",
    "    save(model.state_dict(), f)"
   ]
  },
  {
   "cell_type": "code",
   "execution_count": 31,
   "metadata": {},
   "outputs": [
    {
     "data": {
      "text/plain": [
       "torch.Size([60000, 28, 28])"
      ]
     },
     "execution_count": 31,
     "metadata": {},
     "output_type": "execute_result"
    }
   ],
   "source": [
    "# evaluation of model\n",
    "# get dataset\n",
    "test = datasets.MNIST(root= '../datasets', download = True, train = False, transform = ToTensor())\n",
    "test_loader = DataLoader(train, batch_size = 32)\n",
    "train.data.shape"
   ]
  },
  {
   "cell_type": "code",
   "execution_count": 36,
   "metadata": {},
   "outputs": [
    {
     "name": "stdout",
     "output_type": "stream",
     "text": [
      "Accuracy is: 0.9965\n"
     ]
    }
   ],
   "source": [
    "true_ans = 0\n",
    "false_ans = 0\n",
    "for data in train_loader:\n",
    "    x, y = data\n",
    "    # send to gpu\n",
    "    x, y = x.to('cuda'), y.to('cuda')\n",
    "\n",
    "    # make prediction\n",
    "    y_pred = model(x)\n",
    "\n",
    "    for pred, ans in zip(y_pred, y):\n",
    "        if torch.argmax(pred) == ans:\n",
    "            true_ans += 1\n",
    "        else:\n",
    "            false_ans += 1\n",
    "\n",
    "print(f'Accuracy is: {true_ans/(true_ans + false_ans)}')\n",
    "        \n"
   ]
  },
  {
   "cell_type": "code",
   "execution_count": 37,
   "metadata": {},
   "outputs": [],
   "source": [
    "#\n",
    "# Trying own input\n",
    "#"
   ]
  },
  {
   "cell_type": "code",
   "execution_count": 73,
   "metadata": {},
   "outputs": [],
   "source": [
    "import torchvision\n",
    "from torchvision import transforms\n",
    "from PIL import Image\n",
    "import matplotlib.pyplot as plt"
   ]
  },
  {
   "cell_type": "code",
   "execution_count": 79,
   "metadata": {},
   "outputs": [
    {
     "data": {
      "text/plain": [
       "5"
      ]
     },
     "execution_count": 79,
     "metadata": {},
     "output_type": "execute_result"
    },
    {
     "data": {
      "image/png": "[encoded data removed]",
      "text/plain": [
       "<Figure size 1500x200 with 1 Axes>"
      ]
     },
     "metadata": {},
     "output_type": "display_data"
    }
   ],
   "source": [
    "# feeding own data\n",
    "def predict_number(path):\n",
    "    transform = transforms.Compose([\n",
    "        transforms.Resize((28, 28)),   # Resize to 28x28 pixels\n",
    "        transforms.Grayscale(),        # Convert to grayscale\n",
    "        transforms.ToTensor()           # Convert PIL image to PyTorch tensor\n",
    "    ])\n",
    "\n",
    "    # Load the image and apply the transformation\n",
    "    image = Image.open(path)\n",
    "    image = transform(image).to('cuda')\n",
    "\n",
    "    # show image\n",
    "    plt.figure(figsize=(15, 2))\n",
    "    plt.imshow(torch.reshape(image, (28, 28)).cpu().numpy())\n",
    "\n",
    "    # prepare data\n",
    "    image = torch.reshape(image, (1, 1, 28, 28))\n",
    "\n",
    "    # make pred\n",
    "    pred = model(image)\n",
    "    return torch.argmax(pred).item()\n",
    "    \n",
    "\n",
    "predict_number('./img.png')"
   ]
  }
 ],
 "metadata": {
  "kernelspec": {
   "display_name": "pytorch",
   "language": "python",
   "name": "python3"
  },
  "language_info": {
   "codemirror_mode": {
    "name": "ipython",
    "version": 3
   },
   "file_extension": ".py",
   "mimetype": "text/x-python",
   "name": "python",
   "nbconvert_exporter": "python",
   "pygments_lexer": "ipython3",
   "version": "3.11.4"
  },
  "orig_nbformat": 4
 },
 "nbformat": 4,
 "nbformat_minor": 2
}
